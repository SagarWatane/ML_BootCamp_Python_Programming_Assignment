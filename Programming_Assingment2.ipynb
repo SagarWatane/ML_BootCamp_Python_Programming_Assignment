{
 "cells": [
  {
   "cell_type": "markdown",
   "id": "a70712c4",
   "metadata": {},
   "source": [
    "# 1.\tWrite a Python program to convert kilometers to miles?"
   ]
  },
  {
   "cell_type": "code",
   "execution_count": 4,
   "id": "b8a47d25",
   "metadata": {},
   "outputs": [
    {
     "name": "stdout",
     "output_type": "stream",
     "text": [
      "Enter a Kilometer in numbers which you want to convert in miles: 10\n",
      "10.0 km is equal to 6.2137119 miles.\n"
     ]
    }
   ],
   "source": [
    "km=float(input(\"Enter a Kilometer in numbers which you want to convert in miles: \"))\n",
    "# 1 kilometer = 0.62137119 miles\n",
    "miles=km * 0.62137119\n",
    "print(f\"{km} km is equal to {miles} miles.\")\n"
   ]
  },
  {
   "cell_type": "markdown",
   "id": "02515d99",
   "metadata": {},
   "source": [
    "# 2.\tWrite a Python program to convert Celsius to Fahrenheit?"
   ]
  },
  {
   "cell_type": "code",
   "execution_count": 11,
   "id": "e3f0c538",
   "metadata": {},
   "outputs": [
    {
     "name": "stdout",
     "output_type": "stream",
     "text": [
      "Enter a temperature which you want to convert in Fahrenheit: 36.5\n",
      "36.5°C is equal to 97.7 °F\n"
     ]
    }
   ],
   "source": [
    "Celsius=float(input(\"Enter a temperature which you want to convert in Fahrenheit: \"))\n",
    "Fahrenheit = (Celsius * 9/5) + 32 \n",
    "print(f\"{Celsius}°C is equal to {Fahrenheit} °F\")"
   ]
  },
  {
   "cell_type": "markdown",
   "id": "4744e1a9",
   "metadata": {},
   "source": [
    "# 3.\tWrite a Python program to display calendar?"
   ]
  },
  {
   "cell_type": "code",
   "execution_count": 19,
   "id": "eb3f5540",
   "metadata": {},
   "outputs": [
    {
     "name": "stdout",
     "output_type": "stream",
     "text": [
      "Enter year: 2023\n",
      "Enter month: 1\n",
      "    January 2023\n",
      "Mo Tu We Th Fr Sa Su\n",
      "                   1\n",
      " 2  3  4  5  6  7  8\n",
      " 9 10 11 12 13 14 15\n",
      "16 17 18 19 20 21 22\n",
      "23 24 25 26 27 28 29\n",
      "30 31\n",
      "\n"
     ]
    }
   ],
   "source": [
    "import calendar\n",
    "\n",
    "year = int(input(\"Enter year: \")) \n",
    "month = int(input(\"Enter month: \")) \n",
    "print(calendar.month(year, month))"
   ]
  },
  {
   "cell_type": "markdown",
   "id": "277dcf75",
   "metadata": {},
   "source": [
    "# 4.\tWrite a Python program to solve quadratic equation?"
   ]
  },
  {
   "cell_type": "code",
   "execution_count": 26,
   "id": "0e557602",
   "metadata": {},
   "outputs": [
    {
     "name": "stdout",
     "output_type": "stream",
     "text": [
      "Enter a: 1\n",
      "Enter b: 3\n",
      "Enter c: 2\n",
      "The solution are (-2+0j) and (-1+0j)\n"
     ]
    }
   ],
   "source": [
    "import cmath\n",
    "\n",
    "a = float(input('Enter a: '))\n",
    "b = float(input('Enter b: '))\n",
    "c = float(input('Enter c: '))\n",
    "d = (b**2) - (4*a*c)\n",
    "sol1 = (-b-cmath.sqrt(d))/(2*a)\n",
    "sol2 = (-b+cmath.sqrt(d))/(2*a)\n",
    "print('The solution are {0} and {1}'.format(sol1,sol2))"
   ]
  },
  {
   "cell_type": "markdown",
   "id": "3f7045d9",
   "metadata": {},
   "source": [
    "# 5.\tWrite a Python program to swap two variables without temp variable?"
   ]
  },
  {
   "cell_type": "code",
   "execution_count": 34,
   "id": "f716ec7d",
   "metadata": {},
   "outputs": [
    {
     "name": "stdout",
     "output_type": "stream",
     "text": [
      "Before swapping:\n",
      "a = 10 \n",
      "b = 5\n",
      "After swapping:\n",
      "a = 5 \n",
      "b = 10\n"
     ]
    }
   ],
   "source": [
    "a=10\n",
    "b=5\n",
    "print(\"Before swapping:\\n\"\"a =\",a,\"\\nb =\",b)\n",
    "a,b=b,a\n",
    "print(\"After swapping:\\n\"\"a =\",a,\"\\nb =\",b)"
   ]
  },
  {
   "cell_type": "code",
   "execution_count": null,
   "id": "76f62374",
   "metadata": {},
   "outputs": [],
   "source": []
  }
 ],
 "metadata": {
  "kernelspec": {
   "display_name": "Python 3 (ipykernel)",
   "language": "python",
   "name": "python3"
  },
  "language_info": {
   "codemirror_mode": {
    "name": "ipython",
    "version": 3
   },
   "file_extension": ".py",
   "mimetype": "text/x-python",
   "name": "python",
   "nbconvert_exporter": "python",
   "pygments_lexer": "ipython3",
   "version": "3.9.13"
  }
 },
 "nbformat": 4,
 "nbformat_minor": 5
}
