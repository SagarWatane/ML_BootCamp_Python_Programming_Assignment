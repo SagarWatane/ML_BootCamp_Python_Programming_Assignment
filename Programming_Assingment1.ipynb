{
 "cells": [
  {
   "cell_type": "markdown",
   "id": "ba9e08b9",
   "metadata": {},
   "source": [
    "# 1.\tWrite a Python program to print \"Hello Python\"?"
   ]
  },
  {
   "cell_type": "code",
   "execution_count": 1,
   "id": "2b427fca",
   "metadata": {},
   "outputs": [
    {
     "name": "stdout",
     "output_type": "stream",
     "text": [
      "Hello Python\n"
     ]
    }
   ],
   "source": [
    "print(\"Hello Python\")"
   ]
  },
  {
   "cell_type": "markdown",
   "id": "879c5b00",
   "metadata": {},
   "source": [
    "# 2.\tWrite a Python program to do arithmetical operations addition and division.?"
   ]
  },
  {
   "cell_type": "code",
   "execution_count": 2,
   "id": "454fde9b",
   "metadata": {},
   "outputs": [
    {
     "name": "stdout",
     "output_type": "stream",
     "text": [
      "Enter integer 1: 5\n",
      "Enter integer 2: 4\n",
      "Sum of two integer is 9\n",
      "Division of two integer is 1.25\n"
     ]
    }
   ],
   "source": [
    "num1=int(input(\"Enter integer 1: \"))\n",
    "num2=int(input(\"Enter integer 2: \"))\n",
    "Addition = num1 + num2\n",
    "Division = num1/num2\n",
    "print(\"Sum of two integer is\",Addition)\n",
    "print(\"Division of two integer is\",Division)"
   ]
  },
  {
   "cell_type": "markdown",
   "id": "5459da9a",
   "metadata": {},
   "source": [
    "# 3.\tWrite a Python program to find the area of a triangle?"
   ]
  },
  {
   "cell_type": "code",
   "execution_count": 5,
   "id": "87525786",
   "metadata": {},
   "outputs": [
    {
     "name": "stdout",
     "output_type": "stream",
     "text": [
      "Enter base: 3\n",
      "Enter height: 4\n",
      "Area of triangle is 6.0 cm^2\n"
     ]
    }
   ],
   "source": [
    "base=int(input(\"Enter base: \"))\n",
    "height=int(input(\"Enter height: \"))\n",
    "Area=1/2*base*height\n",
    "print(f\"Area of triangle is {Area} cm^2\")"
   ]
  },
  {
   "cell_type": "markdown",
   "id": "a7f8e4de",
   "metadata": {},
   "source": [
    "# 4.\tWrite a Python program to swap two variables?"
   ]
  },
  {
   "cell_type": "code",
   "execution_count": 10,
   "id": "83e5e1cc",
   "metadata": {},
   "outputs": [
    {
     "name": "stdout",
     "output_type": "stream",
     "text": [
      "value of a after swap is:  30\n",
      "value of b after swap is:  20\n"
     ]
    }
   ],
   "source": [
    "temp=0\n",
    "a=20\n",
    "b=30\n",
    "temp=a\n",
    "a=b\n",
    "b=temp\n",
    "print(\"value of a after swap is: \",a)\n",
    "print(\"value of b after swap is: \",b)"
   ]
  },
  {
   "cell_type": "markdown",
   "id": "0d781145",
   "metadata": {},
   "source": [
    "# 5.\tWrite a Python program to generate a random number?"
   ]
  },
  {
   "cell_type": "code",
   "execution_count": 23,
   "id": "e55ec344",
   "metadata": {},
   "outputs": [
    {
     "name": "stdout",
     "output_type": "stream",
     "text": [
      "Random number between 1 and 100 is :  57\n"
     ]
    }
   ],
   "source": [
    "import random\n",
    "\n",
    "num=random.randint(1,100)\n",
    "print(\"Random number between 1 and 100 is : \",num)"
   ]
  }
 ],
 "metadata": {
  "kernelspec": {
   "display_name": "Python 3 (ipykernel)",
   "language": "python",
   "name": "python3"
  },
  "language_info": {
   "codemirror_mode": {
    "name": "ipython",
    "version": 3
   },
   "file_extension": ".py",
   "mimetype": "text/x-python",
   "name": "python",
   "nbconvert_exporter": "python",
   "pygments_lexer": "ipython3",
   "version": "3.9.13"
  }
 },
 "nbformat": 4,
 "nbformat_minor": 5
}
